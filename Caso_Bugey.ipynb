{
  "nbformat": 4,
  "nbformat_minor": 0,
  "metadata": {
    "colab": {
      "name": "Caso Bugey",
      "provenance": [],
      "collapsed_sections": [],
      "mount_file_id": "1xkAoQ3BYLroVWvKsF1ii9G2NuuFiVX-E",
      "authorship_tag": "ABX9TyPhR8+jS+6dnxEoagphs/qI",
      "include_colab_link": true
    },
    "kernelspec": {
      "name": "python3",
      "display_name": "Python 3"
    },
    "language_info": {
      "name": "python"
    }
  },
  "cells": [
    {
      "cell_type": "markdown",
      "metadata": {
        "id": "view-in-github",
        "colab_type": "text"
      },
      "source": [
        "<a href=\"https://colab.research.google.com/github/gabrielafsz/Projetos-Inova-Talentos/blob/main/Caso_Bugey.ipynb\" target=\"_parent\"><img src=\"https://colab.research.google.com/assets/colab-badge.svg\" alt=\"Open In Colab\"/></a>"
      ]
    },
    {
      "cell_type": "markdown",
      "source": [
        "**RESUMO DO EXPERIMENTO BUGEY:** Os reatores de energia nuclear são as fontes mais intensas de antineutrinos na\n",
        "Terra. As oscilações de neutrinos podem ser estudadas perto do reator procurando\n",
        "uma variação no fluxo observado e no espectro em função da distância. Em Bugey\n",
        "são utilizados três módulos idênticos para extrair sinais de neutrinos a 15, 40 e 95 metros de distância do reator e as medições poderão ser realizadas\n",
        "simultaneamente nos dois locais, sendo uma vantagem quanto à redução das\n",
        "incertezas sistemáticas ao comparar os dados em duas distâncias. Nesse\n",
        "experimento, observa-se a taxa de sobrevivência dos neutrinos eletrônicos\n",
        "\n",
        "$P(ν_e→ ν_e) = 1- 4 |U_{e4}|^2|U_{e4}|^2 \\sin^2(1.27\\frac{\\Delta m^2 L}{E_\\nu}) = 1- \\sin^2 2\\theta _{ee} \\sin^2 (1.27 \\frac{\\Delta m^2 L}{E_\\nu}) $."
      ],
      "metadata": {
        "id": "BHZ6TFtZ7n04"
      }
    },
    {
      "cell_type": "markdown",
      "source": [
        "**OBJETIVO:** Conhecendo o fluxo de neutrinos, a energia e a seção de choque do experimento Bugey, encontrar zonas de exclusão para a probabilidade efetiva `prob = 0.915` no ponto de medição ` L=95` m.\n"
      ],
      "metadata": {
        "id": "-W736sof3yLe"
      }
    },
    {
      "cell_type": "markdown",
      "source": [
        "**ETAPAS:**\n",
        "\n",
        "- Na primeira etapa do programa foi considerado as taxas totais de eventos e uma\n",
        "relação constante entre a energia do pósitron e do neutrino, sendo a energia do\n",
        "neutrino dada por: $E_\\nu \\approx E_{e+}+1,8$ MeV. \n",
        "\n",
        "- O número de eventos em Bugey foi obtido pelo produto da seção de choque com o fluxo de neutrinos. \n",
        "\n",
        "- A seção de choque $\\sigma$ foi extraída do experimento e o fluxo de neutrinos $\\phi$ foi definido como função da energia do neutrino.\n",
        "\n",
        "- A probabilidade efetiva foi obtida a partir da razão entre o número de eventos\n",
        "considerando oscilação e sem oscilação.\n",
        "\n",
        "- E a região de exclusão foi obtida através do teste de qui-quadrado, que é bastante usado nesse tipo de abordagem para verificar a qualidade do\n",
        "modelo criado e indicar regiões que podem ser desconsideradas."
      ],
      "metadata": {
        "id": "oWMO1X2Q7-7i"
      }
    },
    {
      "cell_type": "code",
      "metadata": {
        "colab": {
          "base_uri": "https://localhost:8080/"
        },
        "id": "9ehAc53VOGWo",
        "outputId": "9f1b730c-8165-47b7-c835-dd05df3f435a"
      },
      "source": [
        "from google.colab import drive\n",
        "drive.mount('/content/drive')"
      ],
      "execution_count": null,
      "outputs": [
        {
          "output_type": "stream",
          "name": "stdout",
          "text": [
            "Mounted at /content/drive\n"
          ]
        }
      ]
    },
    {
      "cell_type": "code",
      "metadata": {
        "id": "0sm2CvOHjuZ_"
      },
      "source": [
        "import numpy as np\n",
        "from scipy.integrate import simps\n",
        "import matplotlib.pyplot as plt\n",
        "import pandas as pd \n",
        "import sympy as sp\n",
        "from matplotlib.colors import BoundaryNorm\n",
        "from matplotlib.ticker import MaxNLocator\n",
        "from scipy.interpolate import interp1d"
      ],
      "execution_count": null,
      "outputs": []
    },
    {
      "cell_type": "code",
      "metadata": {
        "id": "8MleCZ65mSU7",
        "colab": {
          "base_uri": "https://localhost:8080/",
          "height": 424
        },
        "outputId": "b48fe5a9-4254-41e9-94cf-ed7295c143d1"
      },
      "source": [
        "cs = pd.read_csv('/content/drive/MyDrive/Estudos/crosssection.dat',delim_whitespace=True)\n",
        "crosssec=cs.to_numpy() \n",
        "display(cs)"
      ],
      "execution_count": null,
      "outputs": [
        {
          "output_type": "display_data",
          "data": {
            "text/plain": [
              "           Enu  cross-section\n",
              "0     1.810000       0.059321\n",
              "1     1.826380       0.140378\n",
              "2     1.842760       0.195996\n",
              "3     1.859140       0.244606\n",
              "4     1.875520       0.290076\n",
              "..         ...            ...\n",
              "496   9.934479     126.447227\n",
              "497   9.950859     126.910622\n",
              "498   9.967239     127.374596\n",
              "499   9.983620     127.839920\n",
              "500  10.000000     128.305923\n",
              "\n",
              "[501 rows x 2 columns]"
            ],
            "text/html": [
              "\n",
              "  <div id=\"df-d61ee7b4-f4d7-4437-93e8-f0f030fdb9d1\">\n",
              "    <div class=\"colab-df-container\">\n",
              "      <div>\n",
              "<style scoped>\n",
              "    .dataframe tbody tr th:only-of-type {\n",
              "        vertical-align: middle;\n",
              "    }\n",
              "\n",
              "    .dataframe tbody tr th {\n",
              "        vertical-align: top;\n",
              "    }\n",
              "\n",
              "    .dataframe thead th {\n",
              "        text-align: right;\n",
              "    }\n",
              "</style>\n",
              "<table border=\"1\" class=\"dataframe\">\n",
              "  <thead>\n",
              "    <tr style=\"text-align: right;\">\n",
              "      <th></th>\n",
              "      <th>Enu</th>\n",
              "      <th>cross-section</th>\n",
              "    </tr>\n",
              "  </thead>\n",
              "  <tbody>\n",
              "    <tr>\n",
              "      <th>0</th>\n",
              "      <td>1.810000</td>\n",
              "      <td>0.059321</td>\n",
              "    </tr>\n",
              "    <tr>\n",
              "      <th>1</th>\n",
              "      <td>1.826380</td>\n",
              "      <td>0.140378</td>\n",
              "    </tr>\n",
              "    <tr>\n",
              "      <th>2</th>\n",
              "      <td>1.842760</td>\n",
              "      <td>0.195996</td>\n",
              "    </tr>\n",
              "    <tr>\n",
              "      <th>3</th>\n",
              "      <td>1.859140</td>\n",
              "      <td>0.244606</td>\n",
              "    </tr>\n",
              "    <tr>\n",
              "      <th>4</th>\n",
              "      <td>1.875520</td>\n",
              "      <td>0.290076</td>\n",
              "    </tr>\n",
              "    <tr>\n",
              "      <th>...</th>\n",
              "      <td>...</td>\n",
              "      <td>...</td>\n",
              "    </tr>\n",
              "    <tr>\n",
              "      <th>496</th>\n",
              "      <td>9.934479</td>\n",
              "      <td>126.447227</td>\n",
              "    </tr>\n",
              "    <tr>\n",
              "      <th>497</th>\n",
              "      <td>9.950859</td>\n",
              "      <td>126.910622</td>\n",
              "    </tr>\n",
              "    <tr>\n",
              "      <th>498</th>\n",
              "      <td>9.967239</td>\n",
              "      <td>127.374596</td>\n",
              "    </tr>\n",
              "    <tr>\n",
              "      <th>499</th>\n",
              "      <td>9.983620</td>\n",
              "      <td>127.839920</td>\n",
              "    </tr>\n",
              "    <tr>\n",
              "      <th>500</th>\n",
              "      <td>10.000000</td>\n",
              "      <td>128.305923</td>\n",
              "    </tr>\n",
              "  </tbody>\n",
              "</table>\n",
              "<p>501 rows × 2 columns</p>\n",
              "</div>\n",
              "      <button class=\"colab-df-convert\" onclick=\"convertToInteractive('df-d61ee7b4-f4d7-4437-93e8-f0f030fdb9d1')\"\n",
              "              title=\"Convert this dataframe to an interactive table.\"\n",
              "              style=\"display:none;\">\n",
              "        \n",
              "  <svg xmlns=\"http://www.w3.org/2000/svg\" height=\"24px\"viewBox=\"0 0 24 24\"\n",
              "       width=\"24px\">\n",
              "    <path d=\"M0 0h24v24H0V0z\" fill=\"none\"/>\n",
              "    <path d=\"M18.56 5.44l.94 2.06.94-2.06 2.06-.94-2.06-.94-.94-2.06-.94 2.06-2.06.94zm-11 1L8.5 8.5l.94-2.06 2.06-.94-2.06-.94L8.5 2.5l-.94 2.06-2.06.94zm10 10l.94 2.06.94-2.06 2.06-.94-2.06-.94-.94-2.06-.94 2.06-2.06.94z\"/><path d=\"M17.41 7.96l-1.37-1.37c-.4-.4-.92-.59-1.43-.59-.52 0-1.04.2-1.43.59L10.3 9.45l-7.72 7.72c-.78.78-.78 2.05 0 2.83L4 21.41c.39.39.9.59 1.41.59.51 0 1.02-.2 1.41-.59l7.78-7.78 2.81-2.81c.8-.78.8-2.07 0-2.86zM5.41 20L4 18.59l7.72-7.72 1.47 1.35L5.41 20z\"/>\n",
              "  </svg>\n",
              "      </button>\n",
              "      \n",
              "  <style>\n",
              "    .colab-df-container {\n",
              "      display:flex;\n",
              "      flex-wrap:wrap;\n",
              "      gap: 12px;\n",
              "    }\n",
              "\n",
              "    .colab-df-convert {\n",
              "      background-color: #E8F0FE;\n",
              "      border: none;\n",
              "      border-radius: 50%;\n",
              "      cursor: pointer;\n",
              "      display: none;\n",
              "      fill: #1967D2;\n",
              "      height: 32px;\n",
              "      padding: 0 0 0 0;\n",
              "      width: 32px;\n",
              "    }\n",
              "\n",
              "    .colab-df-convert:hover {\n",
              "      background-color: #E2EBFA;\n",
              "      box-shadow: 0px 1px 2px rgba(60, 64, 67, 0.3), 0px 1px 3px 1px rgba(60, 64, 67, 0.15);\n",
              "      fill: #174EA6;\n",
              "    }\n",
              "\n",
              "    [theme=dark] .colab-df-convert {\n",
              "      background-color: #3B4455;\n",
              "      fill: #D2E3FC;\n",
              "    }\n",
              "\n",
              "    [theme=dark] .colab-df-convert:hover {\n",
              "      background-color: #434B5C;\n",
              "      box-shadow: 0px 1px 3px 1px rgba(0, 0, 0, 0.15);\n",
              "      filter: drop-shadow(0px 1px 2px rgba(0, 0, 0, 0.3));\n",
              "      fill: #FFFFFF;\n",
              "    }\n",
              "  </style>\n",
              "\n",
              "      <script>\n",
              "        const buttonEl =\n",
              "          document.querySelector('#df-d61ee7b4-f4d7-4437-93e8-f0f030fdb9d1 button.colab-df-convert');\n",
              "        buttonEl.style.display =\n",
              "          google.colab.kernel.accessAllowed ? 'block' : 'none';\n",
              "\n",
              "        async function convertToInteractive(key) {\n",
              "          const element = document.querySelector('#df-d61ee7b4-f4d7-4437-93e8-f0f030fdb9d1');\n",
              "          const dataTable =\n",
              "            await google.colab.kernel.invokeFunction('convertToInteractive',\n",
              "                                                     [key], {});\n",
              "          if (!dataTable) return;\n",
              "\n",
              "          const docLinkHtml = 'Like what you see? Visit the ' +\n",
              "            '<a target=\"_blank\" href=https://colab.research.google.com/notebooks/data_table.ipynb>data table notebook</a>'\n",
              "            + ' to learn more about interactive tables.';\n",
              "          element.innerHTML = '';\n",
              "          dataTable['output_type'] = 'display_data';\n",
              "          await google.colab.output.renderOutput(dataTable, element);\n",
              "          const docLink = document.createElement('div');\n",
              "          docLink.innerHTML = docLinkHtml;\n",
              "          element.appendChild(docLink);\n",
              "        }\n",
              "      </script>\n",
              "    </div>\n",
              "  </div>\n",
              "  "
            ]
          },
          "metadata": {}
        }
      ]
    },
    {
      "cell_type": "code",
      "metadata": {
        "id": "eDDrZei3mXkk"
      },
      "source": [
        "def flux(energy):                       # fluxo de neutrinos\n",
        "  aa=[[0.870,0.896,0.976,0.793],\n",
        "      [-0.160,-0.239,-0.162,-0.080],\n",
        "      [-0.0910,-0.0981,-0.0790,-0.1085]]\n",
        "  ff=[.570,.295,.078,.057]\n",
        "  a1=aa[0]        \n",
        "  a2=aa[1]        \n",
        "  a3=aa[2]       \n",
        "  fl=0.          \n",
        "  for i in range(0,len(aa)):\n",
        "    fl=fl+ff[i]*np.exp((a1[i]+energy*a2[i]+energy**2.*a3[i])) \n",
        "  return fl"
      ],
      "execution_count": null,
      "outputs": []
    },
    {
      "cell_type": "code",
      "metadata": {
        "id": "FLZ6pjQomdoc"
      },
      "source": [
        "def prob(energy,s22t,deltam,l): # probabilidade de oscilação\n",
        "  prob = s22t*(np.sin((1.27*deltam*l)/energy))**2 \n",
        "  return prob"
      ],
      "execution_count": null,
      "outputs": []
    },
    {
      "cell_type": "code",
      "metadata": {
        "id": "rV0vBE70naQm"
      },
      "source": [
        "l_95 = 95            # distância da fonte\n",
        "de = -0.80999994     # diferança entre a energia do neutrino e do pósitron\n",
        "\n",
        "# limites de análise\n",
        "stheta = np.arange(0.01, 1.01 , 0.01)   # seno^2 de 2 theta \n",
        "dm = np.arange(0.0001,0.35,0.001)       # delta m^2\n",
        "\n",
        "enu  = []\n",
        "for i in range(len(crosssec)):\n",
        "  energy = crosssec[i,0]\n",
        "  enu.append(energy)          # energia do neutrino\n",
        "\n",
        "po   = []\n",
        "chi2 = []\n",
        "for j in range(0,len(dm)):\n",
        "  deltam = dm[j]      # delta m^2\n",
        "  ptmp = []\n",
        "  chi  = []\n",
        "  for k in range(0,len(stheta)):\n",
        "    s22t = stheta[k]  # seno^2 de 2 theta\n",
        "    phi  = []  \n",
        "    phip = []   \n",
        "    for i in range(0,len(crosssec)):\n",
        "      energy=enu[i]\n",
        "      phi.append(flux(energy)*crosssec[i,1]) # phi = fluxo x seção de choque\n",
        "      phip.append(flux(energy)*prob(energy,s22t,deltam,l_95)*crosssec[i,1])\n",
        "    \n",
        "    # número de eventos \n",
        "    ntot1 = simps(phi,enu)    # sem oscilação prob=1\n",
        "    ntot2 = simps(phip,enu)   # com oscilação\n",
        "    ptmp.append(1.-ntot2/ntot1)\n",
        "    chi.append((0.915-(1.-ntot2/ntot1))**2/((0.132)**2+(0.05)**2)**1)\n",
        "\n",
        "  po.append(ptmp)    # probabilidade efetiva \n",
        "  chi2.append(chi)   # teste qui-quadrado\n",
        "x, y = np.meshgrid(stheta,dm)"
      ],
      "execution_count": null,
      "outputs": []
    },
    {
      "cell_type": "code",
      "metadata": {
        "colab": {
          "base_uri": "https://localhost:8080/",
          "height": 411
        },
        "id": "CQapkOGgKBgE",
        "outputId": "5eeb388e-9e35-465c-a3fa-f7b43bb934fb"
      },
      "source": [
        "# z = prob\n",
        "levels = MaxNLocator(nbins=15).tick_values(0, 1)\n",
        "cmap = plt.get_cmap('gray')\n",
        "fig, (ax1) = plt.subplots(nrows=1, figsize=(6, 5))\n",
        "cf = ax1.contourf(x, y, po, levels=levels, cmap=cmap)   \n",
        "ax1.set_xlabel(r'$4 |U_{e4}|^2|U_{e4}|^2$', fontsize=14)\n",
        "ax1.set_ylabel(r'$\\Delta m^2$ [eV$^2$]',fontsize=14)\n",
        "ax1.set_ylim(1e-2, 0.35)\n",
        "ax1.set_xlim(1e-2, 1)\n",
        "fig.colorbar(cf, ax=ax1)\n",
        "CS = plt.contour(x,y, po,[0.64, 0.88]) \n",
        "fig.tight_layout()\n",
        "plt.clabel(CS, inline=False, fontsize=0)\n",
        "labels = ['$P = 0.64$','$P = 0.88$']\n",
        "for i in range(len(labels)):\n",
        "    CS.collections[i].set_label(labels[i])\n",
        "plt.legend()\n",
        "plt.title('Mapa de probabilidade efetiva \\n' \n",
        "'considerando as taxas totais de eventos\\n')\n",
        "plt.show()"
      ],
      "execution_count": null,
      "outputs": [
        {
          "output_type": "display_data",
          "data": {
            "image/png": "[encoded data removed]",
            "text/plain": [
              "<Figure size 432x360 with 2 Axes>"
            ]
          },
          "metadata": {
            "needs_background": "light"
          }
        }
      ]
    },
    {
      "cell_type": "markdown",
      "source": [
        "A barra de cores representa as probabilidades efetivas de 0 a 1 para cada conjunto de dados (Δm², sin²2θ)."
      ],
      "metadata": {
        "id": "VikzHVjaNbgQ"
      }
    },
    {
      "cell_type": "code",
      "metadata": {
        "colab": {
          "base_uri": "https://localhost:8080/",
          "height": 403
        },
        "id": "63QiipnWuqEh",
        "outputId": "f0ec47b3-3165-4f79-9fc9-14d4052907fc"
      },
      "source": [
        "# z = chi2\n",
        "levels = MaxNLocator(nbins=15).tick_values(0, 27) \n",
        "cmap = plt.get_cmap('Greys')\n",
        "fig, (ax1) = plt.subplots(nrows=1, figsize=(6, 5))\n",
        "cf = ax1.contourf(x, y, chi2, levels=levels, cmap=cmap)   \n",
        "ax1.set_xlabel(r'$4 |U_{e4}|^2|U_{e4}|^2$',fontsize=14)\n",
        "ax1.set_ylabel(r'$\\Delta m^2$ [eV$^2$]',fontsize=14)\n",
        "ax1.set_ylim(1e-2, 0.35)\n",
        "ax1.set_xlim(1e-2, 1)\n",
        "fig.colorbar(cf, ax=ax1)\n",
        "CS = plt.contour(x,y,chi2,[2., 6., 11.]) \n",
        "fig.tight_layout()\n",
        "plt.clabel(CS, inline=False, fontsize=0)\n",
        "labels = ['$\\chi^2 = 02$','$\\chi^2 = 06$','$\\chi^2 = 11$']\n",
        "for i in range(len(labels)):\n",
        "    CS.collections[i].set_label(labels[i])\n",
        "plt.legend()\n",
        "plt.title('Mapa para análise de $\\chi ^2$\\n')\n",
        "plt.show()"
      ],
      "execution_count": null,
      "outputs": [
        {
          "output_type": "display_data",
          "data": {
            "image/png": "[encoded data removed]",
            "text/plain": [
              "<Figure size 432x360 with 2 Axes>"
            ]
          },
          "metadata": {
            "needs_background": "light"
          }
        }
      ]
    },
    {
      "cell_type": "markdown",
      "source": [
        "O teste χ² avalia a qualidade do modelo criado, nesse usamos o valor experimental obtido para a probabilidade (P=0.915) e os erros a cerca do experimento. Quanto maior\n",
        "o valor χ² mais distante o\n",
        "modelo está do dado\n",
        "experimental e a região à direita deve ser excluída. Adotaremos nesse projeto exclusões a partir de χ²= 2 com base na literatura."
      ],
      "metadata": {
        "id": "JEe6ca-PNI8T"
      }
    }
  ]
}