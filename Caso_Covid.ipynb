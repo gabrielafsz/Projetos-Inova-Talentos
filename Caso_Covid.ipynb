{
  "nbformat": 4,
  "nbformat_minor": 0,
  "metadata": {
    "colab": {
      "name": "Caso Covid",
      "provenance": [],
      "include_colab_link": true
    },
    "kernelspec": {
      "name": "python3",
      "display_name": "Python 3"
    },
    "language_info": {
      "name": "python"
    }
  },
  "cells": [
    {
      "cell_type": "markdown",
      "metadata": {
        "id": "view-in-github",
        "colab_type": "text"
      },
      "source": [
        "<a href=\"https://colab.research.google.com/github/gabrielafsz/Projetos-Inova-Talentos/blob/main/Caso_Covid.ipynb\" target=\"_parent\"><img src=\"https://colab.research.google.com/assets/colab-badge.svg\" alt=\"Open In Colab\"/></a>"
      ]
    },
    {
      "cell_type": "markdown",
      "source": [
        "**RESUMO:**  Neste projeto fazemos um webscraping dos dados atualizados de COVID no Brasil retirados do site oficial do governo e fazemos algumas análises, como a evolução dos casos e evolução de casos acumulada."
      ],
      "metadata": {
        "id": "pN7paPQWryQI"
      }
    },
    {
      "cell_type": "code",
      "execution_count": 1,
      "metadata": {
        "colab": {
          "base_uri": "https://localhost:8080/"
        },
        "id": "IY1VAdsaimia",
        "outputId": "f6a74c3d-2c27-4a3e-908f-a8bfeda88fdf"
      },
      "outputs": [
        {
          "output_type": "stream",
          "name": "stdout",
          "text": [
            "--2022-06-05 15:31:26--  https://mobileapps.saude.gov.br/esus-vepi/files/unAFkcaNDeXajurGB7LChj8SgQYS2ptm/35fef75a8803d534bf20c47b594531f5_HIST_PAINEL_COVIDBR_03jun2022.rar\n",
            "Resolving mobileapps.saude.gov.br (mobileapps.saude.gov.br)... 54.233.182.28, 54.94.151.129, 54.207.232.124\n",
            "Connecting to mobileapps.saude.gov.br (mobileapps.saude.gov.br)|54.233.182.28|:443... connected.\n",
            "HTTP request sent, awaiting response... 200 OK\n",
            "Length: 19897518 (19M) [application/x-rar-compressed]\n",
            "Saving to: ‘mobileapps.saude.gov.br/esus-vepi/files/unAFkcaNDeXajurGB7LChj8SgQYS2ptm/35fef75a8803d534bf20c47b594531f5_HIST_PAINEL_COVIDBR_03jun2022.rar’\n",
            "\n",
            "mobileapps.saude.go 100%[===================>]  18.98M  8.10MB/s    in 2.3s    \n",
            "\n",
            "2022-06-05 15:31:29 (8.10 MB/s) - ‘mobileapps.saude.gov.br/esus-vepi/files/unAFkcaNDeXajurGB7LChj8SgQYS2ptm/35fef75a8803d534bf20c47b594531f5_HIST_PAINEL_COVIDBR_03jun2022.rar’ saved [19897518/19897518]\n",
            "\n",
            "FINISHED --2022-06-05 15:31:29--\n",
            "Total wall clock time: 3.5s\n",
            "Downloaded: 1 files, 19M in 2.3s (8.10 MB/s)\n"
          ]
        }
      ],
      "source": [
        "# usamos o comando wget para fazer o download dos arquivos.\n",
        "!wget -p https://mobileapps.saude.gov.br/esus-vepi/files/unAFkcaNDeXajurGB7LChj8SgQYS2ptm/35fef75a8803d534bf20c47b594531f5_HIST_PAINEL_COVIDBR_03jun2022.rar"
      ]
    },
    {
      "cell_type": "markdown",
      "source": [
        "O arquivo baixado está em formato rar. Para fazer a extração precisamos baixar algumas bibliotecas."
      ],
      "metadata": {
        "id": "frEKeC2Ntzbc"
      }
    },
    {
      "cell_type": "code",
      "source": [
        "pip install pyunpack"
      ],
      "metadata": {
        "colab": {
          "base_uri": "https://localhost:8080/"
        },
        "id": "6VYkSYK7uFFq",
        "outputId": "ad6dd6a9-a37a-4b6e-f4aa-dcfe7eae38de"
      },
      "execution_count": 2,
      "outputs": [
        {
          "output_type": "stream",
          "name": "stdout",
          "text": [
            "Looking in indexes: https://pypi.org/simple, https://us-python.pkg.dev/colab-wheels/public/simple/\n",
            "Requirement already satisfied: pyunpack in /usr/local/lib/python3.7/dist-packages (0.2.2)\n",
            "Requirement already satisfied: easyprocess in /usr/local/lib/python3.7/dist-packages (from pyunpack) (1.1)\n",
            "Requirement already satisfied: entrypoint2 in /usr/local/lib/python3.7/dist-packages (from pyunpack) (1.0)\n"
          ]
        }
      ]
    },
    {
      "cell_type": "code",
      "source": [
        "pip install patool "
      ],
      "metadata": {
        "colab": {
          "base_uri": "https://localhost:8080/"
        },
        "id": "e4E5OoPUuwfb",
        "outputId": "5e147422-d4db-40fa-fb3d-ed110632218f"
      },
      "execution_count": 3,
      "outputs": [
        {
          "output_type": "stream",
          "name": "stdout",
          "text": [
            "Looking in indexes: https://pypi.org/simple, https://us-python.pkg.dev/colab-wheels/public/simple/\n",
            "Requirement already satisfied: patool in /usr/local/lib/python3.7/dist-packages (1.12)\n"
          ]
        }
      ]
    },
    {
      "cell_type": "code",
      "source": [
        "dados_covid = '/content/mobileapps.saude.gov.br/esus-vepi/files/unAFkcaNDeXajurGB7LChj8SgQYS2ptm/35fef75a8803d534bf20c47b594531f5_HIST_PAINEL_COVIDBR_03jun2022.rar'"
      ],
      "metadata": {
        "id": "evDCcYBguhPp"
      },
      "execution_count": 4,
      "outputs": []
    },
    {
      "cell_type": "code",
      "source": [
        "from pyunpack import Archive\n",
        "import os\n",
        "Archive(dados_covid).extractall(os.getcwd())"
      ],
      "metadata": {
        "id": "qP4eX_M0uCAM"
      },
      "execution_count": 5,
      "outputs": []
    },
    {
      "cell_type": "markdown",
      "source": [
        "Vamos analisar os dados mais atuais, de 2022."
      ],
      "metadata": {
        "id": "0ZsHgJPos3YY"
      }
    },
    {
      "cell_type": "code",
      "source": [
        "import pandas as pd\n",
        "painel_covid = pd.read_csv('/content/HIST_PAINEL_COVIDBR_2022_Parte1_03jun2022.csv', sep=';')"
      ],
      "metadata": {
        "id": "JYrBNUEOusfg"
      },
      "execution_count": 6,
      "outputs": []
    },
    {
      "cell_type": "code",
      "source": [
        "painel_covid.head()"
      ],
      "metadata": {
        "colab": {
          "base_uri": "https://localhost:8080/",
          "height": 357
        },
        "id": "11orTL-Zu8Py",
        "outputId": "6f5f9e8b-633b-4f5b-cd5a-32850267ba23"
      },
      "execution_count": 7,
      "outputs": [
        {
          "output_type": "execute_result",
          "data": {
            "text/plain": [
              "   regiao estado municipio  coduf  codmun  codRegiaoSaude nomeRegiaoSaude  \\\n",
              "0  Brasil    NaN       NaN     76     NaN             NaN             NaN   \n",
              "1  Brasil    NaN       NaN     76     NaN             NaN             NaN   \n",
              "2  Brasil    NaN       NaN     76     NaN             NaN             NaN   \n",
              "3  Brasil    NaN       NaN     76     NaN             NaN             NaN   \n",
              "4  Brasil    NaN       NaN     76     NaN             NaN             NaN   \n",
              "\n",
              "         data  semanaEpi  populacaoTCU2019  casosAcumulado  casosNovos  \\\n",
              "0  2022-01-01         52       210147125.0      22291507.0        3986   \n",
              "1  2022-01-02          1       210147125.0      22293228.0        1721   \n",
              "2  2022-01-03          1       210147125.0      22305078.0       11850   \n",
              "3  2022-01-04          1       210147125.0      22323837.0       18759   \n",
              "4  2022-01-05          1       210147125.0      22351104.0       27267   \n",
              "\n",
              "   obitosAcumulado  obitosNovos  Recuperadosnovos  emAcompanhamentoNovos  \\\n",
              "0           619105           49        21581668.0                90734.0   \n",
              "1           619133           28        21581717.0                92378.0   \n",
              "2           619209           76        21591847.0                94022.0   \n",
              "3           619384          175        21603954.0               100499.0   \n",
              "4           619513          129        21615473.0               116118.0   \n",
              "\n",
              "   interior/metropolitana  \n",
              "0                     NaN  \n",
              "1                     NaN  \n",
              "2                     NaN  \n",
              "3                     NaN  \n",
              "4                     NaN  "
            ],
            "text/html": [
              "\n",
              "  <div id=\"df-3d9b0ad1-f4c6-4242-a596-97501b86f8d3\">\n",
              "    <div class=\"colab-df-container\">\n",
              "      <div>\n",
              "<style scoped>\n",
              "    .dataframe tbody tr th:only-of-type {\n",
              "        vertical-align: middle;\n",
              "    }\n",
              "\n",
              "    .dataframe tbody tr th {\n",
              "        vertical-align: top;\n",
              "    }\n",
              "\n",
              "    .dataframe thead th {\n",
              "        text-align: right;\n",
              "    }\n",
              "</style>\n",
              "<table border=\"1\" class=\"dataframe\">\n",
              "  <thead>\n",
              "    <tr style=\"text-align: right;\">\n",
              "      <th></th>\n",
              "      <th>regiao</th>\n",
              "      <th>estado</th>\n",
              "      <th>municipio</th>\n",
              "      <th>coduf</th>\n",
              "      <th>codmun</th>\n",
              "      <th>codRegiaoSaude</th>\n",
              "      <th>nomeRegiaoSaude</th>\n",
              "      <th>data</th>\n",
              "      <th>semanaEpi</th>\n",
              "      <th>populacaoTCU2019</th>\n",
              "      <th>casosAcumulado</th>\n",
              "      <th>casosNovos</th>\n",
              "      <th>obitosAcumulado</th>\n",
              "      <th>obitosNovos</th>\n",
              "      <th>Recuperadosnovos</th>\n",
              "      <th>emAcompanhamentoNovos</th>\n",
              "      <th>interior/metropolitana</th>\n",
              "    </tr>\n",
              "  </thead>\n",
              "  <tbody>\n",
              "    <tr>\n",
              "      <th>0</th>\n",
              "      <td>Brasil</td>\n",
              "      <td>NaN</td>\n",
              "      <td>NaN</td>\n",
              "      <td>76</td>\n",
              "      <td>NaN</td>\n",
              "      <td>NaN</td>\n",
              "      <td>NaN</td>\n",
              "      <td>2022-01-01</td>\n",
              "      <td>52</td>\n",
              "      <td>210147125.0</td>\n",
              "      <td>22291507.0</td>\n",
              "      <td>3986</td>\n",
              "      <td>619105</td>\n",
              "      <td>49</td>\n",
              "      <td>21581668.0</td>\n",
              "      <td>90734.0</td>\n",
              "      <td>NaN</td>\n",
              "    </tr>\n",
              "    <tr>\n",
              "      <th>1</th>\n",
              "      <td>Brasil</td>\n",
              "      <td>NaN</td>\n",
              "      <td>NaN</td>\n",
              "      <td>76</td>\n",
              "      <td>NaN</td>\n",
              "      <td>NaN</td>\n",
              "      <td>NaN</td>\n",
              "      <td>2022-01-02</td>\n",
              "      <td>1</td>\n",
              "      <td>210147125.0</td>\n",
              "      <td>22293228.0</td>\n",
              "      <td>1721</td>\n",
              "      <td>619133</td>\n",
              "      <td>28</td>\n",
              "      <td>21581717.0</td>\n",
              "      <td>92378.0</td>\n",
              "      <td>NaN</td>\n",
              "    </tr>\n",
              "    <tr>\n",
              "      <th>2</th>\n",
              "      <td>Brasil</td>\n",
              "      <td>NaN</td>\n",
              "      <td>NaN</td>\n",
              "      <td>76</td>\n",
              "      <td>NaN</td>\n",
              "      <td>NaN</td>\n",
              "      <td>NaN</td>\n",
              "      <td>2022-01-03</td>\n",
              "      <td>1</td>\n",
              "      <td>210147125.0</td>\n",
              "      <td>22305078.0</td>\n",
              "      <td>11850</td>\n",
              "      <td>619209</td>\n",
              "      <td>76</td>\n",
              "      <td>21591847.0</td>\n",
              "      <td>94022.0</td>\n",
              "      <td>NaN</td>\n",
              "    </tr>\n",
              "    <tr>\n",
              "      <th>3</th>\n",
              "      <td>Brasil</td>\n",
              "      <td>NaN</td>\n",
              "      <td>NaN</td>\n",
              "      <td>76</td>\n",
              "      <td>NaN</td>\n",
              "      <td>NaN</td>\n",
              "      <td>NaN</td>\n",
              "      <td>2022-01-04</td>\n",
              "      <td>1</td>\n",
              "      <td>210147125.0</td>\n",
              "      <td>22323837.0</td>\n",
              "      <td>18759</td>\n",
              "      <td>619384</td>\n",
              "      <td>175</td>\n",
              "      <td>21603954.0</td>\n",
              "      <td>100499.0</td>\n",
              "      <td>NaN</td>\n",
              "    </tr>\n",
              "    <tr>\n",
              "      <th>4</th>\n",
              "      <td>Brasil</td>\n",
              "      <td>NaN</td>\n",
              "      <td>NaN</td>\n",
              "      <td>76</td>\n",
              "      <td>NaN</td>\n",
              "      <td>NaN</td>\n",
              "      <td>NaN</td>\n",
              "      <td>2022-01-05</td>\n",
              "      <td>1</td>\n",
              "      <td>210147125.0</td>\n",
              "      <td>22351104.0</td>\n",
              "      <td>27267</td>\n",
              "      <td>619513</td>\n",
              "      <td>129</td>\n",
              "      <td>21615473.0</td>\n",
              "      <td>116118.0</td>\n",
              "      <td>NaN</td>\n",
              "    </tr>\n",
              "  </tbody>\n",
              "</table>\n",
              "</div>\n",
              "      <button class=\"colab-df-convert\" onclick=\"convertToInteractive('df-3d9b0ad1-f4c6-4242-a596-97501b86f8d3')\"\n",
              "              title=\"Convert this dataframe to an interactive table.\"\n",
              "              style=\"display:none;\">\n",
              "        \n",
              "  <svg xmlns=\"http://www.w3.org/2000/svg\" height=\"24px\"viewBox=\"0 0 24 24\"\n",
              "       width=\"24px\">\n",
              "    <path d=\"M0 0h24v24H0V0z\" fill=\"none\"/>\n",
              "    <path d=\"M18.56 5.44l.94 2.06.94-2.06 2.06-.94-2.06-.94-.94-2.06-.94 2.06-2.06.94zm-11 1L8.5 8.5l.94-2.06 2.06-.94-2.06-.94L8.5 2.5l-.94 2.06-2.06.94zm10 10l.94 2.06.94-2.06 2.06-.94-2.06-.94-.94-2.06-.94 2.06-2.06.94z\"/><path d=\"M17.41 7.96l-1.37-1.37c-.4-.4-.92-.59-1.43-.59-.52 0-1.04.2-1.43.59L10.3 9.45l-7.72 7.72c-.78.78-.78 2.05 0 2.83L4 21.41c.39.39.9.59 1.41.59.51 0 1.02-.2 1.41-.59l7.78-7.78 2.81-2.81c.8-.78.8-2.07 0-2.86zM5.41 20L4 18.59l7.72-7.72 1.47 1.35L5.41 20z\"/>\n",
              "  </svg>\n",
              "      </button>\n",
              "      \n",
              "  <style>\n",
              "    .colab-df-container {\n",
              "      display:flex;\n",
              "      flex-wrap:wrap;\n",
              "      gap: 12px;\n",
              "    }\n",
              "\n",
              "    .colab-df-convert {\n",
              "      background-color: #E8F0FE;\n",
              "      border: none;\n",
              "      border-radius: 50%;\n",
              "      cursor: pointer;\n",
              "      display: none;\n",
              "      fill: #1967D2;\n",
              "      height: 32px;\n",
              "      padding: 0 0 0 0;\n",
              "      width: 32px;\n",
              "    }\n",
              "\n",
              "    .colab-df-convert:hover {\n",
              "      background-color: #E2EBFA;\n",
              "      box-shadow: 0px 1px 2px rgba(60, 64, 67, 0.3), 0px 1px 3px 1px rgba(60, 64, 67, 0.15);\n",
              "      fill: #174EA6;\n",
              "    }\n",
              "\n",
              "    [theme=dark] .colab-df-convert {\n",
              "      background-color: #3B4455;\n",
              "      fill: #D2E3FC;\n",
              "    }\n",
              "\n",
              "    [theme=dark] .colab-df-convert:hover {\n",
              "      background-color: #434B5C;\n",
              "      box-shadow: 0px 1px 3px 1px rgba(0, 0, 0, 0.15);\n",
              "      filter: drop-shadow(0px 1px 2px rgba(0, 0, 0, 0.3));\n",
              "      fill: #FFFFFF;\n",
              "    }\n",
              "  </style>\n",
              "\n",
              "      <script>\n",
              "        const buttonEl =\n",
              "          document.querySelector('#df-3d9b0ad1-f4c6-4242-a596-97501b86f8d3 button.colab-df-convert');\n",
              "        buttonEl.style.display =\n",
              "          google.colab.kernel.accessAllowed ? 'block' : 'none';\n",
              "\n",
              "        async function convertToInteractive(key) {\n",
              "          const element = document.querySelector('#df-3d9b0ad1-f4c6-4242-a596-97501b86f8d3');\n",
              "          const dataTable =\n",
              "            await google.colab.kernel.invokeFunction('convertToInteractive',\n",
              "                                                     [key], {});\n",
              "          if (!dataTable) return;\n",
              "\n",
              "          const docLinkHtml = 'Like what you see? Visit the ' +\n",
              "            '<a target=\"_blank\" href=https://colab.research.google.com/notebooks/data_table.ipynb>data table notebook</a>'\n",
              "            + ' to learn more about interactive tables.';\n",
              "          element.innerHTML = '';\n",
              "          dataTable['output_type'] = 'display_data';\n",
              "          await google.colab.output.renderOutput(dataTable, element);\n",
              "          const docLink = document.createElement('div');\n",
              "          docLink.innerHTML = docLinkHtml;\n",
              "          element.appendChild(docLink);\n",
              "        }\n",
              "      </script>\n",
              "    </div>\n",
              "  </div>\n",
              "  "
            ]
          },
          "metadata": {},
          "execution_count": 7
        }
      ]
    },
    {
      "cell_type": "code",
      "source": [
        "# tamanho do dataset\n",
        "n = len(painel_covid)\n",
        "print('Número de linhas do dataset:', n)"
      ],
      "metadata": {
        "id": "UgctC2fcu81B",
        "colab": {
          "base_uri": "https://localhost:8080/"
        },
        "outputId": "036c5d07-bcb8-4569-81e2-984a4cc662d2"
      },
      "execution_count": 8,
      "outputs": [
        {
          "output_type": "stream",
          "name": "stdout",
          "text": [
            "Número de linhas do dataset: 865326\n"
          ]
        }
      ]
    },
    {
      "cell_type": "code",
      "source": [
        "# distribuição de casos novos\n",
        "casos_novos = painel_covid[painel_covid.estado.isna()].casosNovos\n",
        "cn = casos_novos.plot(color='m')\n",
        "cn.set_xlabel(\"Dias\", fontsize=12)\n",
        "cn.set_ylabel('Número de casos', fontsize=12)\n",
        "cn.set_title('Casos novos a partir de 2022 \\n', fontsize=12);"
      ],
      "metadata": {
        "colab": {
          "base_uri": "https://localhost:8080/",
          "height": 313
        },
        "id": "z6mstTrJxRcs",
        "outputId": "a949244c-cf72-4626-fea2-740ddcc3d741"
      },
      "execution_count": 9,
      "outputs": [
        {
          "output_type": "display_data",
          "data": {
            "text/plain": [
              "<Figure size 432x288 with 1 Axes>"
            ],
            "image/png": "[encoded data removed]"
          },
          "metadata": {
            "needs_background": "light"
          }
        }
      ]
    },
    {
      "cell_type": "code",
      "source": [
        "# distribuição acumulada de casos\n",
        "casos_acumulado = painel_covid[painel_covid.estado.isna()].casosAcumulado\n",
        "ca = casos_acumulado.plot(color='b')\n",
        "ca.set_xlabel(\"Dias\", fontsize=12)\n",
        "ca.set_ylabel('Número de casos', fontsize=12)\n",
        "ca.set_title('Casos acumulados a partir de 2022 \\n', fontsize=12);"
      ],
      "metadata": {
        "colab": {
          "base_uri": "https://localhost:8080/",
          "height": 313
        },
        "id": "LPsdF8ZJUtjO",
        "outputId": "2bd835f1-e4bf-4e3c-f5a0-f5deae0e636b"
      },
      "execution_count": 10,
      "outputs": [
        {
          "output_type": "display_data",
          "data": {
            "text/plain": [
              "<Figure size 432x288 with 1 Axes>"
            ],
            "image/png": "[encoded data removed]"
          },
          "metadata": {
            "needs_background": "light"
          }
        }
      ]
    }
  ]
}